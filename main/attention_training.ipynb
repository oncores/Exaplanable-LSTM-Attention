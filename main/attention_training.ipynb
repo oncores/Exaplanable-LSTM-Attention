{
 "cells": [
  {
   "cell_type": "code",
   "execution_count": 1,
   "metadata": {
    "scrolled": false
   },
   "outputs": [
    {
     "name": "stderr",
     "output_type": "stream",
     "text": [
      "Using TensorFlow backend.\n"
     ]
    }
   ],
   "source": [
    "import numpy as np\n",
    "import pandas as pd\n",
    "import sys\n",
    "sys.path.append('..')\n",
    "from preprocessing.input_data_index_embedding import *\n",
    "\n",
    "from preprocessing.preprocessing_code_190418 import title_catcher, preprocess, date_process\n",
    "import pickle as pkl\n",
    "import re\n",
    "\n",
    "from sklearn.model_selection import train_test_split\n",
    "from sklearn.metrics import confusion_matrix, classification_report, precision_score, recall_score\n",
    "from sklearn.metrics import classification_report\n",
    "\n",
    "from collections import Counter\n",
    "from konlpy.tag import Komoran\n",
    "from eunjeon import Mecab\n",
    "mecab = Mecab()\n",
    "\n",
    "from keras.preprocessing.sequence import pad_sequences\n"
   ]
  },
  {
   "cell_type": "code",
   "execution_count": 2,
   "metadata": {
    "scrolled": true
   },
   "outputs": [],
   "source": [
    "import keras\n",
    "import matplotlib.pyplot as plt\n",
    "from keras.layers import Input, Embedding, Dense, LSTM, Bidirectional, Dropout, Concatenate, Flatten, Conv1D, Conv2D, GlobalMaxPooling1D, TimeDistributed, SpatialDropout1D, GRU, multiply, Lambda, Reshape, CuDNNGRU, CuDNNLSTM, Permute, RepeatVector, Multiply\n",
    "from keras.layers import MaxPool1D\n",
    "from keras.models import Model, Sequential\n",
    "from keras import backend as K\n",
    "from keras.callbacks import ModelCheckpoint\n",
    "from keras.optimizers import Adam\n",
    "from keras.engine.topology import Layer\n",
    "from keras.preprocessing.sequence import pad_sequences\n",
    "from keras_self_attention import SeqSelfAttention\n",
    "from keras import regularizers\n",
    "from keras.layers.normalization import BatchNormalization\n",
    "from keras.layers import Activation\n",
    "import seaborn as sn"
   ]
  },
  {
   "cell_type": "markdown",
   "metadata": {},
   "source": [
    "# Data Import"
   ]
  },
  {
   "cell_type": "code",
   "execution_count": 3,
   "metadata": {},
   "outputs": [],
   "source": [
    "data_dir = '../data/191203_인수계약서_최종.xlsx'\n",
    "vocab_to_int_dir = '../preprocessing/insu_vocab_to_int.pkl'\n",
    "int_to_vocab_dir = '../preprocessing/insu_int_to_vocab.pkl'"
   ]
  },
  {
   "cell_type": "code",
   "execution_count": 4,
   "metadata": {},
   "outputs": [],
   "source": [
    "with open('./par_model/train_probability.pickle', 'rb') as f:\n",
    "    train_prob = pickle.load(f)\n",
    "with open('./par_model/valid_probability.pickle', 'rb') as f:\n",
    "    valid_prob = pickle.load(f)\n",
    "with open('./par_model/test_probability.pickle', 'rb') as f:\n",
    "    test_prob = pickle.load(f)"
   ]
  },
  {
   "cell_type": "code",
   "execution_count": 5,
   "metadata": {
    "scrolled": true
   },
   "outputs": [
    {
     "data": {
      "text/html": [
       "<div>\n",
       "<style scoped>\n",
       "    .dataframe tbody tr th:only-of-type {\n",
       "        vertical-align: middle;\n",
       "    }\n",
       "\n",
       "    .dataframe tbody tr th {\n",
       "        vertical-align: top;\n",
       "    }\n",
       "\n",
       "    .dataframe thead th {\n",
       "        text-align: right;\n",
       "    }\n",
       "</style>\n",
       "<table border=\"1\" class=\"dataframe\">\n",
       "  <thead>\n",
       "    <tr style=\"text-align: right;\">\n",
       "      <th></th>\n",
       "      <th>doc_id</th>\n",
       "      <th>par_id</th>\n",
       "      <th>art_id</th>\n",
       "      <th>line_id</th>\n",
       "      <th>text</th>\n",
       "      <th>par_label</th>\n",
       "      <th>line_label</th>\n",
       "      <th>split_id</th>\n",
       "    </tr>\n",
       "  </thead>\n",
       "  <tbody>\n",
       "    <tr>\n",
       "      <th>0</th>\n",
       "      <td>22</td>\n",
       "      <td>2</td>\n",
       "      <td>1</td>\n",
       "      <td>0</td>\n",
       "      <td>제1조 (정의)</td>\n",
       "      <td>정의</td>\n",
       "      <td>-</td>\n",
       "      <td>22_정의</td>\n",
       "    </tr>\n",
       "    <tr>\n",
       "      <th>1</th>\n",
       "      <td>22</td>\n",
       "      <td>2</td>\n",
       "      <td>1</td>\n",
       "      <td>1</td>\n",
       "      <td>본 계약에서 사용하는 용어는 다음과 같은 뜻을 가진다.</td>\n",
       "      <td>정의</td>\n",
       "      <td>PR-02-01</td>\n",
       "      <td>22_정의</td>\n",
       "    </tr>\n",
       "    <tr>\n",
       "      <th>2</th>\n",
       "      <td>22</td>\n",
       "      <td>2</td>\n",
       "      <td>1</td>\n",
       "      <td>2</td>\n",
       "      <td>1. \"인수단\"은 \"대표주관회사\" 및 \"인수회사\"를 말한다.</td>\n",
       "      <td>정의</td>\n",
       "      <td>PR-02-02</td>\n",
       "      <td>22_정의</td>\n",
       "    </tr>\n",
       "  </tbody>\n",
       "</table>\n",
       "</div>"
      ],
      "text/plain": [
       "   doc_id  par_id  art_id  line_id                               text  \\\n",
       "0      22       2       1        0                           제1조 (정의)   \n",
       "1      22       2       1        1     본 계약에서 사용하는 용어는 다음과 같은 뜻을 가진다.   \n",
       "2      22       2       1        2  1. \"인수단\"은 \"대표주관회사\" 및 \"인수회사\"를 말한다.   \n",
       "\n",
       "  par_label line_label split_id  \n",
       "0        정의          -    22_정의  \n",
       "1        정의   PR-02-01    22_정의  \n",
       "2        정의   PR-02-02    22_정의  "
      ]
     },
     "execution_count": 5,
     "metadata": {},
     "output_type": "execute_result"
    }
   ],
   "source": [
    "origin_data = load_dataset(data_dir)\n",
    "origin_data = join_date(origin_data)\n",
    "origin_data.head(3)"
   ]
  },
  {
   "cell_type": "markdown",
   "metadata": {},
   "source": [
    "# Document to paragraph"
   ]
  },
  {
   "cell_type": "code",
   "execution_count": 6,
   "metadata": {
    "scrolled": true
   },
   "outputs": [
    {
     "data": {
      "text/html": [
       "<div>\n",
       "<style scoped>\n",
       "    .dataframe tbody tr th:only-of-type {\n",
       "        vertical-align: middle;\n",
       "    }\n",
       "\n",
       "    .dataframe tbody tr th {\n",
       "        vertical-align: top;\n",
       "    }\n",
       "\n",
       "    .dataframe thead th {\n",
       "        text-align: right;\n",
       "    }\n",
       "</style>\n",
       "<table border=\"1\" class=\"dataframe\">\n",
       "  <thead>\n",
       "    <tr style=\"text-align: right;\">\n",
       "      <th></th>\n",
       "      <th>index</th>\n",
       "      <th>doc</th>\n",
       "      <th>label</th>\n",
       "      <th>line_label</th>\n",
       "    </tr>\n",
       "  </thead>\n",
       "  <tbody>\n",
       "    <tr>\n",
       "      <th>0</th>\n",
       "      <td>0</td>\n",
       "      <td>0                                             ...</td>\n",
       "      <td>정의</td>\n",
       "      <td>[-, PR-02-01, PR-02-02, PR-02-03, PR-02-04, PR...</td>\n",
       "    </tr>\n",
       "    <tr>\n",
       "      <th>1</th>\n",
       "      <td>1</td>\n",
       "      <td>19                                        제2조 ...</td>\n",
       "      <td>인수_및_모집</td>\n",
       "      <td>[-, PR-03-01, PR-03-02, PR-03-02, PR-03-02, PR...</td>\n",
       "    </tr>\n",
       "    <tr>\n",
       "      <th>2</th>\n",
       "      <td>2</td>\n",
       "      <td>32                                   제3조 (\"본 사...</td>\n",
       "      <td>본_사채의_발행조건</td>\n",
       "      <td>[-, PR-04-03, PR-04-04, PR-04-05, PR-04-06, PR...</td>\n",
       "    </tr>\n",
       "  </tbody>\n",
       "</table>\n",
       "</div>"
      ],
      "text/plain": [
       "   index                                                doc       label  \\\n",
       "0      0  0                                             ...          정의   \n",
       "1      1  19                                        제2조 ...     인수_및_모집   \n",
       "2      2  32                                   제3조 (\"본 사...  본_사채의_발행조건   \n",
       "\n",
       "                                          line_label  \n",
       "0  [-, PR-02-01, PR-02-02, PR-02-03, PR-02-04, PR...  \n",
       "1  [-, PR-03-01, PR-03-02, PR-03-02, PR-03-02, PR...  \n",
       "2  [-, PR-04-03, PR-04-04, PR-04-05, PR-04-06, PR...  "
      ]
     },
     "execution_count": 6,
     "metadata": {},
     "output_type": "execute_result"
    }
   ],
   "source": [
    "ptl_df = document_label_dataset_training(origin_data)\n",
    "ptl_df.head(3)"
   ]
  },
  {
   "cell_type": "markdown",
   "metadata": {},
   "source": [
    "# Split data"
   ]
  },
  {
   "cell_type": "code",
   "execution_count": 7,
   "metadata": {
    "scrolled": true
   },
   "outputs": [
    {
     "name": "stdout",
     "output_type": "stream",
     "text": [
      "len(x_all):  5202\n",
      "len(y_all):  5202\n",
      "len(x_train):  3641\n",
      "len(y_train):  3641\n",
      "len(x_valid):  780\n",
      "len(y_valid):  780\n",
      "len(x_test):  781\n",
      "len(y_test):  781\n"
     ]
    }
   ],
   "source": [
    "x_all, y_all, x_train, y_train, x_valid, y_valid, x_test, y_test, matrix_train, matrix_valid, matrix_test = split_newdataset_sw(ptl_df, 'index', 1103)\n",
    "print('len(x_all): ', len(x_all))\n",
    "print('len(y_all): ', len(y_all))\n",
    "print('len(x_train): ', len(x_train))\n",
    "print('len(y_train): ', len(y_train))\n",
    "print('len(x_valid): ', len(x_valid))\n",
    "print('len(y_valid): ', len(y_valid))\n",
    "print('len(x_test): ', len(x_test))\n",
    "print('len(y_test): ', len(y_test))"
   ]
  },
  {
   "cell_type": "markdown",
   "metadata": {},
   "source": [
    "# Set parameters"
   ]
  },
  {
   "cell_type": "code",
   "execution_count": 8,
   "metadata": {},
   "outputs": [],
   "source": [
    "valid_class = np.unique(origin_data['line_label'].values)\n",
    "class_size = len(valid_class)"
   ]
  },
  {
   "cell_type": "code",
   "execution_count": 9,
   "metadata": {},
   "outputs": [],
   "source": [
    "# vocab_to_int, int_to_vocab = bow_vocab(x_train, vocab_to_int_dir, int_to_vocab_dir)\n",
    "vocab_to_int, int_to_vocab = load_bow_vocab(vocab_to_int_dir, int_to_vocab_dir)\n",
    "# max_len, max_row, mean_len, mean_row = max_length(x_all)"
   ]
  },
  {
   "cell_type": "code",
   "execution_count": 10,
   "metadata": {},
   "outputs": [],
   "source": [
    "max_len = 350\n",
    "max_row = 121"
   ]
  },
  {
   "cell_type": "code",
   "execution_count": 11,
   "metadata": {
    "scrolled": false
   },
   "outputs": [
    {
     "name": "stdout",
     "output_type": "stream",
     "text": [
      "max_len 350\n",
      "max_row 121\n"
     ]
    }
   ],
   "source": [
    "print('max_len', max_len)\n",
    "print('max_row', max_row)"
   ]
  },
  {
   "cell_type": "markdown",
   "metadata": {},
   "source": [
    "# index_embedding"
   ]
  },
  {
   "cell_type": "code",
   "execution_count": 12,
   "metadata": {},
   "outputs": [],
   "source": [
    "unique_par_class = np.unique(np.concatenate([i.split(',') for i in np.unique(ptl_df['label'].values)]))\n",
    "parlabel_to_int = bow_label(unique_par_class)[0]"
   ]
  },
  {
   "cell_type": "code",
   "execution_count": 13,
   "metadata": {},
   "outputs": [],
   "source": [
    "#각 문단의 행 번호\n",
    "train_row = tagging_row_index(x_train)\n",
    "valid_row = tagging_row_index(x_valid)\n",
    "test_row = tagging_row_index(x_test)\n",
    "\n",
    "train_row_ = row_embed(train_row, max_row)\n",
    "valid_row_ = row_embed(valid_row, max_row)\n",
    "test_row_ = row_embed(test_row, max_row)"
   ]
  },
  {
   "cell_type": "code",
   "execution_count": 14,
   "metadata": {},
   "outputs": [],
   "source": [
    "col_type = 'model'\n",
    "# col_type = 'answer'\n",
    "\n",
    "if col_type == 'model' :\n",
    "    #각 문단의 열 번호\n",
    "    train_proba = np.concatenate([[train_prob[num] for cnt in x_train[num]] for num in range(len(x_train))])\n",
    "    valid_proba = np.concatenate([[valid_prob[num] for cnt in x_valid[num]] for num in range(len(x_valid))])\n",
    "    test_proba = np.concatenate([[test_prob[num] for cnt in x_test[num]] for num in range(len(x_test))])\n",
    "    \n",
    "elif col_type == 'answer':\n",
    "    #multi_label을 위해 comma 기준으로 split\n",
    "    split_matrix_train = [[labels.split(',') for labels in par] for par in matrix_train]\n",
    "    split_matrix_valid = [[labels.split(',') for labels in par] for par in matrix_valid]\n",
    "    split_matrix_test = [[labels.split(',') for labels in par] for par in matrix_test]\n",
    "    \n",
    "    #각 문단의 열 번호\n",
    "    train_proba = np.concatenate([[labels_to_vecs(labels, unique_par_class, parlabel_to_int) for labels in par] for par in split_matrix_train])\n",
    "    valid_proba = np.concatenate([[labels_to_vecs(labels, unique_par_class, parlabel_to_int) for labels in par] for par in split_matrix_valid])\n",
    "    test_proba = np.concatenate([[labels_to_vecs(labels, unique_par_class, parlabel_to_int) for labels in par] for par in split_matrix_test])"
   ]
  },
  {
   "cell_type": "markdown",
   "metadata": {},
   "source": [
    "# Data Loader"
   ]
  },
  {
   "cell_type": "code",
   "execution_count": 15,
   "metadata": {},
   "outputs": [
    {
     "name": "stdout",
     "output_type": "stream",
     "text": [
      "x_train_ :  (43139, 350)\n",
      "y_train_ :  (43139, 250)\n",
      "\n",
      "x_valid_ :  (9540, 350)\n",
      "x_valid_ :  (9540, 250)\n",
      "\n",
      "x_test_ :  (9775, 350)\n",
      "y_test_ :  (9775, 250)\n",
      "\n"
     ]
    }
   ],
   "source": [
    "x_train_ = x_data_set(x_train, max_len, vocab_to_int)\n",
    "y_train_ = y_data_set(y_train, valid_class, max_row)\n",
    "\n",
    "x_valid_ = x_data_set(x_valid, max_len, vocab_to_int)\n",
    "y_valid_ = y_data_set(y_valid, valid_class, max_row)\n",
    "\n",
    "x_test_ = x_data_set(x_test, max_len, vocab_to_int)\n",
    "y_test_ = y_data_set(y_test, valid_class, max_row)\n",
    "\n",
    "# y_all_ = y_data_set(y_all, valid_class, max_row)\n",
    "\n",
    "print('x_train_ : ', x_train_.shape)\n",
    "print('y_train_ : ', y_train_.shape, end='\\n\\n')\n",
    "\n",
    "print('x_valid_ : ', x_valid_.shape)\n",
    "print('x_valid_ : ', y_valid_.shape, end='\\n\\n')\n",
    "\n",
    "print('x_test_ : ', x_test_.shape)\n",
    "print('y_test_ : ', y_test_.shape, end='\\n\\n')"
   ]
  },
  {
   "cell_type": "markdown",
   "metadata": {},
   "source": [
    "# Model"
   ]
  },
  {
   "cell_type": "markdown",
   "metadata": {},
   "source": [
    "## hyper parameter"
   ]
  },
  {
   "cell_type": "code",
   "execution_count": 22,
   "metadata": {},
   "outputs": [],
   "source": [
    "# Hyper Parameter\n",
    "\n",
    "n_words = len(int_to_vocab) + 2\n",
    "embed_size = 100\n",
    "\n",
    "batch_size = 8\n",
    "learning_rate = 0.0001\n",
    "epochs = 500\n",
    "\n",
    "sentence_wise_lstm_size = 128\n",
    "\n",
    "dense_dropout = 0.5\n",
    "l2_reg = regularizers.l2(0.0001)\n",
    "\n",
    "dense_size = 128\n",
    "attention_dim = 100\n",
    "rnn_dim = 256"
   ]
  },
  {
   "cell_type": "markdown",
   "metadata": {},
   "source": [
    "## model init"
   ]
  },
  {
   "cell_type": "code",
   "execution_count": 23,
   "metadata": {},
   "outputs": [],
   "source": [
    "class AttentionLayer(Layer):\n",
    "    def __init__(self, attention_dim, **kwargs):\n",
    "        self.attention_dim = attention_dim\n",
    "        super(AttentionLayer, self).__init__(**kwargs)\n",
    "    \n",
    "    def build(self, input_shape):\n",
    "        self.W = self.add_weight(name='Attention_Weight',\n",
    "                                 shape=(input_shape[-1], self.attention_dim),\n",
    "                                 initializer='random_normal',\n",
    "                                 trainable=True)\n",
    "        self.b = self.add_weight(name='Attention_Bias',\n",
    "                                 shape=(self.attention_dim, ),\n",
    "                                 initializer='random_normal',\n",
    "                                 trainable=True)\n",
    "        self.u = self.add_weight(name='Attention_Context_Vector',\n",
    "                                 shape=(self.attention_dim, 1),\n",
    "                                 initializer='random_normal',\n",
    "                                 trainable=True)\n",
    "        super(AttentionLayer, self).build(input_shape)\n",
    "        \n",
    "    def call(self, x):\n",
    "        # refer to the original paper\n",
    "        # link: https://www.cs.cmu.edu/~hovy/papers/16HLT-hierarchical-attention-networks.pdf\n",
    "        u_it = K.tanh(K.dot(x, self.W) + self.b)\n",
    "        a_it = K.dot(u_it, self.u)\n",
    "        a_it = K.squeeze(a_it, -1)\n",
    "        a_it = K.softmax(a_it)\n",
    "        return a_it\n",
    "        \n",
    "    def compute_output_shape(self, input_shape):\n",
    "        return (input_shape[0], input_shape[1])"
   ]
  },
  {
   "cell_type": "code",
   "execution_count": 24,
   "metadata": {},
   "outputs": [],
   "source": [
    "def WeightedSum(attentions, representations):\n",
    "    # from Shape(batch_size, len_units) to Shape(batch_size, rnn_dim * 2, len_units)\n",
    "    # RepeatVector는 인풋을 lstm output의 마지막 차원만큼 반복하는 함수\n",
    "    repeated_attentions = RepeatVector(K.int_shape(representations)[-1])(attentions)\n",
    "    \n",
    "    # from Shape(batch_size, rnn_dim * 2, len_units) to Shape(batch_size, len_units, lstm_dim * 2)\n",
    "    # 입력의 1차원과 2차원을 치환한다.\n",
    "    repeated_attentions = Permute([2, 1])(repeated_attentions)\n",
    "    \n",
    "    # compute representation as the weighted sum of representations\n",
    "    # \n",
    "    aggregated_representation = Multiply()([representations, repeated_attentions])\n",
    "    aggregated_representation = Lambda(lambda x: K.sum(x, axis=1))(aggregated_representation)\n",
    "    \n",
    "    return aggregated_representation\n",
    "\n",
    "def SenWeightedSum(attentions, representations):\n",
    "    # from Shape(batch_size, len_units) to Shape(batch_size, rnn_dim * 2, len_units)\n",
    "    repeated_attentions = RepeatVector(K.int_shape(representations)[-1])(attentions)\n",
    "\n",
    "    # from Shape(batch_size, rnn_dim * 2, len_units) to Shape(batch_size, len_units, lstm_dim * 2)\n",
    "    repeated_attentions = Permute([2, 1])(repeated_attentions)\n",
    "    \n",
    "    # compute representation as the weighted sum of representations\n",
    "    aggregated_representation = Multiply()([representations, repeated_attentions])\n",
    "#     aggregated_representation = TimeDistributed(Lambda(lambda x: K.sum(x, axis=1)))(aggregated_representation)\n",
    "\n",
    "    return aggregated_representation"
   ]
  },
  {
   "cell_type": "markdown",
   "metadata": {},
   "source": [
    "# 문단정보반영모델"
   ]
  },
  {
   "cell_type": "code",
   "execution_count": 25,
   "metadata": {},
   "outputs": [],
   "source": [
    "def TabSen():\n",
    "    \n",
    "    K.clear_session()\n",
    "    np.random.seed(1201)\n",
    "    \n",
    "    ##### index model using dense_layer #####\n",
    "    row_embed = Input(shape = (max_row, ), name = 'row_input')\n",
    "    col_embed = Input(shape = (len(unique_par_class), ), name = 'col_input')\n",
    "    \n",
    "    row_layer = Dense(128)(row_embed)\n",
    "    col_layer = Dense(128)(col_embed)\n",
    "    \n",
    "    ##### word model using lstm #####\n",
    "    word_inp_embed = Input(shape = (None, ), name = 'word_input')\n",
    "    word_embed = Embedding(n_words, embed_size, trainable = True)(word_inp_embed)    \n",
    "    \n",
    "    lstm = Bidirectional(CuDNNLSTM(sentence_wise_lstm_size, return_sequences=True))(word_embed)\n",
    "    lstm_bn = BatchNormalization()(lstm)\n",
    "    \n",
    "    attn_score = AttentionLayer(attention_dim)(lstm_bn)\n",
    "    attn_out = WeightedSum(attn_score, lstm_bn)\n",
    "    \n",
    "    ##### concat lstm_layer,row,col #####\n",
    "    concat = Concatenate()([attn_out, row_layer, col_layer])\n",
    "\n",
    "    ##### fully connected layers #####\n",
    "\n",
    "    fc_layer = Dense(dense_size, \n",
    "                  activation='relu', \n",
    "                  kernel_regularizer = keras.regularizers.l2(1e-5), \n",
    "                  bias_regularizer = keras.regularizers.l1(1e-3))(concat)\n",
    "    dropout = Dropout(dense_dropout)(fc_layer)    \n",
    "    output = Dense(class_size, activation = 'softmax')(dropout)\n",
    "    \n",
    "    model = Model(inputs = [word_inp_embed, row_embed, col_embed], outputs = output)\n",
    "    \n",
    "    word_attention_extractor = Model(inputs=[word_inp_embed],\n",
    "                                     outputs=[attn_score])\n",
    "    \n",
    "    model.compile(loss = 'categorical_crossentropy', optimizer = Adam(learning_rate), metrics = ['accuracy'])\n",
    "    return model, word_attention_extractor"
   ]
  },
  {
   "cell_type": "code",
   "execution_count": 26,
   "metadata": {
    "scrolled": true
   },
   "outputs": [
    {
     "name": "stdout",
     "output_type": "stream",
     "text": [
      "WARNING:tensorflow:From C:\\Users\\jeon\\Anaconda3\\lib\\site-packages\\keras\\backend\\tensorflow_backend.py:107: The name tf.reset_default_graph is deprecated. Please use tf.compat.v1.reset_default_graph instead.\n",
      "\n",
      "WARNING:tensorflow:From C:\\Users\\jeon\\Anaconda3\\lib\\site-packages\\keras\\backend\\tensorflow_backend.py:111: The name tf.placeholder_with_default is deprecated. Please use tf.compat.v1.placeholder_with_default instead.\n",
      "\n",
      "WARNING:tensorflow:From C:\\Users\\jeon\\Anaconda3\\lib\\site-packages\\keras\\backend\\tensorflow_backend.py:66: The name tf.get_default_graph is deprecated. Please use tf.compat.v1.get_default_graph instead.\n",
      "\n",
      "WARNING:tensorflow:From C:\\Users\\jeon\\Anaconda3\\lib\\site-packages\\keras\\backend\\tensorflow_backend.py:541: The name tf.placeholder is deprecated. Please use tf.compat.v1.placeholder instead.\n",
      "\n",
      "WARNING:tensorflow:From C:\\Users\\jeon\\Anaconda3\\lib\\site-packages\\keras\\backend\\tensorflow_backend.py:4432: The name tf.random_uniform is deprecated. Please use tf.random.uniform instead.\n",
      "\n",
      "WARNING:tensorflow:From C:\\Users\\jeon\\Anaconda3\\lib\\site-packages\\keras\\backend\\tensorflow_backend.py:3733: calling dropout (from tensorflow.python.ops.nn_ops) with keep_prob is deprecated and will be removed in a future version.\n",
      "Instructions for updating:\n",
      "Please use `rate` instead of `keep_prob`. Rate should be set to `rate = 1 - keep_prob`.\n",
      "WARNING:tensorflow:From C:\\Users\\jeon\\Anaconda3\\lib\\site-packages\\keras\\optimizers.py:793: The name tf.train.Optimizer is deprecated. Please use tf.compat.v1.train.Optimizer instead.\n",
      "\n",
      "Model: \"model_1\"\n",
      "__________________________________________________________________________________________________\n",
      "Layer (type)                    Output Shape         Param #     Connected to                     \n",
      "==================================================================================================\n",
      "word_input (InputLayer)         (None, None)         0                                            \n",
      "__________________________________________________________________________________________________\n",
      "embedding_1 (Embedding)         (None, None, 100)    181000      word_input[0][0]                 \n",
      "__________________________________________________________________________________________________\n",
      "bidirectional_1 (Bidirectional) (None, None, 256)    235520      embedding_1[0][0]                \n",
      "__________________________________________________________________________________________________\n",
      "batch_normalization_1 (BatchNor (None, None, 256)    1024        bidirectional_1[0][0]            \n",
      "__________________________________________________________________________________________________\n",
      "attention_layer_1 (AttentionLay (None, None)         25800       batch_normalization_1[0][0]      \n",
      "__________________________________________________________________________________________________\n",
      "repeat_vector_1 (RepeatVector)  (None, 256, None)    0           attention_layer_1[0][0]          \n",
      "__________________________________________________________________________________________________\n",
      "permute_1 (Permute)             (None, None, 256)    0           repeat_vector_1[0][0]            \n",
      "__________________________________________________________________________________________________\n",
      "multiply_1 (Multiply)           (None, None, 256)    0           batch_normalization_1[0][0]      \n",
      "                                                                 permute_1[0][0]                  \n",
      "__________________________________________________________________________________________________\n",
      "row_input (InputLayer)          (None, 121)          0                                            \n",
      "__________________________________________________________________________________________________\n",
      "col_input (InputLayer)          (None, 29)           0                                            \n",
      "__________________________________________________________________________________________________\n",
      "lambda_1 (Lambda)               (None, 256)          0           multiply_1[0][0]                 \n",
      "__________________________________________________________________________________________________\n",
      "dense_1 (Dense)                 (None, 128)          15616       row_input[0][0]                  \n",
      "__________________________________________________________________________________________________\n",
      "dense_2 (Dense)                 (None, 128)          3840        col_input[0][0]                  \n",
      "__________________________________________________________________________________________________\n",
      "concatenate_1 (Concatenate)     (None, 512)          0           lambda_1[0][0]                   \n",
      "                                                                 dense_1[0][0]                    \n",
      "                                                                 dense_2[0][0]                    \n",
      "__________________________________________________________________________________________________\n",
      "dense_3 (Dense)                 (None, 128)          65664       concatenate_1[0][0]              \n",
      "__________________________________________________________________________________________________\n",
      "dropout_1 (Dropout)             (None, 128)          0           dense_3[0][0]                    \n",
      "__________________________________________________________________________________________________\n",
      "dense_4 (Dense)                 (None, 250)          32250       dropout_1[0][0]                  \n",
      "==================================================================================================\n",
      "Total params: 560,714\n",
      "Trainable params: 560,202\n",
      "Non-trainable params: 512\n",
      "__________________________________________________________________________________________________\n"
     ]
    }
   ],
   "source": [
    "checkpoint = ModelCheckpoint('../weight/attention/{epoch:02d}-{val_loss:.4f}.hdf5', save_best_only=True, verbose=1)\n",
    "tabsen, word_attention_extractor = TabSen()\n",
    "tabsen.summary()"
   ]
  },
  {
   "cell_type": "code",
   "execution_count": null,
   "metadata": {},
   "outputs": [],
   "source": [
    "# tabsen_hist = tabsen.fit(\n",
    "#                 x=[x_train_, train_row_, train_proba],\n",
    "#                 y=y_train_,\n",
    "#                 batch_size=16,\n",
    "#                 epochs=50,\n",
    "#                 verbose=True,\n",
    "#                 validation_data=([x_valid_, valid_row_, valid_proba], y_valid_),\n",
    "#                 callbacks=[checkpoint])"
   ]
  },
  {
   "cell_type": "markdown",
   "metadata": {},
   "source": [
    "# Model validation"
   ]
  },
  {
   "cell_type": "code",
   "execution_count": 25,
   "metadata": {
    "scrolled": true
   },
   "outputs": [
    {
     "data": {
      "image/png": "[encoded data removed]",
      "text/plain": [
       "<Figure size 432x288 with 1 Axes>"
      ]
     },
     "metadata": {},
     "output_type": "display_data"
    }
   ],
   "source": [
    "fig = plt.figure()\n",
    "fig.patch.set_facecolor('xkcd:white')\n",
    "plt.plot(tabsen_hist.history[\"loss\"])\n",
    "plt.plot(tabsen_hist.history[\"val_loss\"])\n",
    "plt.legend(['train','valid'])\n",
    "# plt.xlim(100,500)\n",
    "# plt.ylim(0.0,0.5)\n",
    "plt.show()"
   ]
  },
  {
   "cell_type": "code",
   "execution_count": 27,
   "metadata": {},
   "outputs": [
    {
     "data": {
      "image/png": "[encoded data removed]",
      "text/plain": [
       "<Figure size 432x288 with 1 Axes>"
      ]
     },
     "metadata": {},
     "output_type": "display_data"
    }
   ],
   "source": [
    "fig = plt.figure()\n",
    "fig.patch.set_facecolor('xkcd:white')\n",
    "plt.plot(tabsen_hist.history[\"acc\"])\n",
    "plt.plot(tabsen_hist.history[\"val_acc\"])\n",
    "plt.legend(['train','valid'])\n",
    "# plt.xlim(100,500)\n",
    "# plt.ylim(0.0,0.5)\n",
    "plt.show()"
   ]
  },
  {
   "cell_type": "code",
   "execution_count": 23,
   "metadata": {
    "scrolled": true
   },
   "outputs": [],
   "source": [
    "tabsen.load_weights('../weight/attention/33-0.1379.hdf5')"
   ]
  },
  {
   "cell_type": "markdown",
   "metadata": {},
   "source": [
    "# Evaluation"
   ]
  },
  {
   "cell_type": "code",
   "execution_count": 24,
   "metadata": {},
   "outputs": [],
   "source": [
    "from sklearn.metrics import precision_recall_fscore_support\n",
    "from sklearn.metrics import accuracy_score"
   ]
  },
  {
   "cell_type": "code",
   "execution_count": 25,
   "metadata": {
    "scrolled": true
   },
   "outputs": [
    {
     "name": "stdout",
     "output_type": "stream",
     "text": [
      "train accuracy : 0.9781867915343425\n",
      "valid accuracy : 0.9832285115303984\n",
      "test accuracy : 0.9840409207161125\n"
     ]
    }
   ],
   "source": [
    "train_accuracy = print('train accuracy : {}'.format(evaluate(input_data=[x_train_, train_row_, train_proba], real=y_train_, model=tabsen)))\n",
    "valid_accuracy = print('valid accuracy : {}'.format(evaluate(input_data=[x_valid_, valid_row_, valid_proba], real=y_valid_, model=tabsen)))\n",
    "test_accuracy = print('test accuracy : {}'.format(evaluate(input_data=[x_test_, test_row_, test_proba], real=y_test_, model=tabsen)))"
   ]
  },
  {
   "cell_type": "code",
   "execution_count": 40,
   "metadata": {},
   "outputs": [],
   "source": [
    "def metric_score(real, input_data, model):\n",
    "    pred_data = model.predict(input_data)\n",
    "    pred_label = [np.argmax(i) for i in pred_data]\n",
    "    real_label = [np.argmax(i) for i in real]\n",
    "    \n",
    "    score = precision_recall_fscore_support(real_label, pred_label)\n",
    "    mean_score = [np.mean(i) for i in score[0:3]]\n",
    "    \n",
    "    return mean_score"
   ]
  },
  {
   "cell_type": "code",
   "execution_count": 41,
   "metadata": {
    "scrolled": true
   },
   "outputs": [
    {
     "name": "stdout",
     "output_type": "stream",
     "text": [
      "precision : 0.9663731787962756\n",
      "recall : 0.9604724861055559\n",
      "fscore : 0.9618698016864959\n"
     ]
    },
    {
     "name": "stderr",
     "output_type": "stream",
     "text": [
      "C:\\Users\\jeon\\Anaconda3\\lib\\site-packages\\sklearn\\metrics\\classification.py:1437: UndefinedMetricWarning: Precision and F-score are ill-defined and being set to 0.0 in labels with no predicted samples.\n",
      "  'precision', 'predicted', average, warn_for)\n"
     ]
    }
   ],
   "source": [
    "precision, recall, fscore = metric_score(real=y_train_, input_data=[x_train_, train_row_, train_proba], model=tabsen)\n",
    "print('precision : {}'.format(precision))\n",
    "print('recall : {}'.format(recall))\n",
    "print('fscore : {}'.format(fscore))"
   ]
  },
  {
   "cell_type": "code",
   "execution_count": 42,
   "metadata": {},
   "outputs": [
    {
     "name": "stdout",
     "output_type": "stream",
     "text": [
      "precision : 0.9617282679615882\n",
      "recall : 0.9602516973049949\n",
      "fscore : 0.959414724122534\n"
     ]
    }
   ],
   "source": [
    "precision, recall, fscore = metric_score(real=y_valid_, input_data=[x_valid_, valid_row_, valid_proba], model=tabsen)\n",
    "print('precision : {}'.format(precision))\n",
    "print('recall : {}'.format(recall))\n",
    "print('fscore : {}'.format(fscore))"
   ]
  },
  {
   "cell_type": "code",
   "execution_count": 43,
   "metadata": {
    "scrolled": true
   },
   "outputs": [
    {
     "name": "stdout",
     "output_type": "stream",
     "text": [
      "precision : 0.968243589866517\n",
      "recall : 0.960829685199897\n",
      "fscore : 0.9622844275427626\n"
     ]
    },
    {
     "name": "stderr",
     "output_type": "stream",
     "text": [
      "C:\\Users\\jeon\\Anaconda3\\lib\\site-packages\\sklearn\\metrics\\classification.py:1439: UndefinedMetricWarning: Recall and F-score are ill-defined and being set to 0.0 in labels with no true samples.\n",
      "  'recall', 'true', average, warn_for)\n"
     ]
    }
   ],
   "source": [
    "precision, recall, fscore = metric_score(real=y_test_, input_data=[x_test_, test_row_, test_proba], model=tabsen)\n",
    "print('precision : {}'.format(precision))\n",
    "print('recall : {}'.format(recall))\n",
    "print('fscore : {}'.format(fscore))"
   ]
  },
  {
   "cell_type": "markdown",
   "metadata": {},
   "source": [
    "# 해석 모델"
   ]
  },
  {
   "cell_type": "markdown",
   "metadata": {},
   "source": [
    "## variable_init"
   ]
  },
  {
   "cell_type": "code",
   "execution_count": 27,
   "metadata": {},
   "outputs": [],
   "source": [
    "int_to_vocab[0] = 'pad'\n",
    "int_to_vocab[1] = 'UNK'"
   ]
  },
  {
   "cell_type": "code",
   "execution_count": 50,
   "metadata": {},
   "outputs": [],
   "source": [
    "import matplotlib\n",
    "import matplotlib.font_manager as fm\n",
    "fm.get_fontconfig_fonts()\n",
    "font_location = 'C:/Windows/Fonts/malgun.ttf' # For Windows\n",
    "font_name = fm.FontProperties(fname=font_location).get_name()"
   ]
  },
  {
   "cell_type": "code",
   "execution_count": 51,
   "metadata": {},
   "outputs": [],
   "source": [
    "init_x_dict = {}\n",
    "init_x_dict['train'] = x_train_\n",
    "init_x_dict['valid'] = x_valid_\n",
    "init_x_dict['test'] = x_test_"
   ]
  },
  {
   "cell_type": "code",
   "execution_count": 52,
   "metadata": {},
   "outputs": [],
   "source": [
    "init_y_dict = {}\n",
    "init_y_dict['train'] = y_train_\n",
    "init_y_dict['valid'] = y_valid_\n",
    "init_y_dict['test'] = y_test_"
   ]
  },
  {
   "cell_type": "code",
   "execution_count": 53,
   "metadata": {},
   "outputs": [],
   "source": [
    "split = 'test'"
   ]
  },
  {
   "cell_type": "code",
   "execution_count": 54,
   "metadata": {},
   "outputs": [],
   "source": [
    "threshold=0.5"
   ]
  },
  {
   "cell_type": "code",
   "execution_count": 55,
   "metadata": {},
   "outputs": [],
   "source": [
    "def hst_output(output):\n",
    "    return [vecs2labels((line_output>threshold)*1, int_to_label) for line_output in output]\n",
    "\n",
    "def vecs2labels(vecs, int_to_label):\n",
    "    output = []\n",
    "    for i, vec in enumerate(vecs):\n",
    "        if vec == 1:\n",
    "            output.append(int_to_label[i])\n",
    "    return output    "
   ]
  },
  {
   "cell_type": "markdown",
   "metadata": {},
   "source": [
    "## attention extract"
   ]
  },
  {
   "cell_type": "code",
   "execution_count": 61,
   "metadata": {},
   "outputs": [],
   "source": [
    "label_to_int, int_to_label = bow_label(valid_class)\n",
    "pred_attention = word_attention_extractor.predict(init_x_dict[split])\n",
    "labels = [int_to_label[np.argmax(i)] for i in init_y_dict['test']]"
   ]
  },
  {
   "cell_type": "code",
   "execution_count": null,
   "metadata": {},
   "outputs": [],
   "source": [
    "words_list = []\n",
    "for sent_idx, sentence in enumerate(init_x_dict[split]):\n",
    "    if sentence[0] == 0:\n",
    "        continue\n",
    "\n",
    "    for word_idx in range(max_len):\n",
    "        if sentence[word_idx] == 0:\n",
    "            words = [int_to_vocab[word_id] for word_id in sentence[0:word_idx]]\n",
    "            pred_att = pred_attention[sent_idx][0:len(words)]\n",
    "            pred_att = np.expand_dims(pred_att, axis=0)\n",
    "            break\n",
    "            \n",
    "    fig, ax = plt.subplots(figsize=(len(words), 1))\n",
    "    plt.rc('font', family=font_name)\n",
    "    plt.rc('xtick', labelsize=12)\n",
    "    midpoint = (max(pred_att[:, 0]) - min(pred_att[:, 0])) / 2\n",
    "    heatmap = sn.heatmap(pred_att, xticklabels=words, yticklabels=False, square=True, linewidths=0.1, cmap='coolwarm', center=midpoint, vmin=0, vmax=1)\n",
    "    words_list.append([np.array(pred_att[0]), words, labels[sent_idx]])\n",
    "    \n",
    "#     print(pred_att)\n",
    "#     print(words)\n",
    "#     print(labels[sent_idx])\n",
    "#     print(line_dict[labels[sent_idx][0]])\n",
    "\n",
    "    plt.xticks(rotation=45)\n",
    "    plt.title(line_dict[labels[sent_idx][0]],)\n",
    "\n",
    "    fig = plt.gcf()\n",
    "    fig.savefig('./output_png/200128/word_attention_{}_{}'.format(split,sent_idx), bbox_inches = \"tight\")\n",
    "    fig = plt.figure()\n",
    "    fig.patch.set_facecolor('xkcd:white')\n",
    "    plt.show()\n",
    "    print('*************************************************')\n",
    "    print('\\n\\n\\n\\n\\n')"
   ]
  },
  {
   "cell_type": "code",
   "execution_count": 81,
   "metadata": {},
   "outputs": [],
   "source": [
    "scores = [i[0] for i in words_list]\n",
    "tokens = [i[1] for i in words_list]"
   ]
  },
  {
   "cell_type": "code",
   "execution_count": null,
   "metadata": {},
   "outputs": [],
   "source": [
    "for sen_idx, (score,token) in enumerate(zip(scores, tokens)) :\n",
    "    for tok_idx, (s,t) in enumerate(zip(score, token)) :\n",
    "        print(t, ':', s)\n",
    "    df = pd.DataFrame(score,token).T\n",
    "    df.to_excel('./output_excel/0121_answer/output_{}_{}.xlsx'.format(split, sen_idx))\n",
    "    print('\\n\\n')"
   ]
  },
  {
   "cell_type": "markdown",
   "metadata": {},
   "source": [
    "# Count Per Label"
   ]
  },
  {
   "cell_type": "code",
   "execution_count": 40,
   "metadata": {},
   "outputs": [],
   "source": [
    "def int_to_label(y_vectors, valid_class):\n",
    "    enc = OneHotEncoder(handle_unknown='ignore')\n",
    "    enc.fit(valid_class.reshape(-1,1))\n",
    "    labels = enc.inverse_transform(y_vectors)\n",
    "    return labels"
   ]
  },
  {
   "cell_type": "code",
   "execution_count": 41,
   "metadata": {},
   "outputs": [],
   "source": [
    "def count_per_label(input_data, real, seg, output):\n",
    "    pred = tabsen.predict(input_data)\n",
    "    pred_label = [line_dict[i] for i in np.concatenate(int_to_label(pred, valid_class))]\n",
    "    real_label = [line_dict[i] for i in np.concatenate(int_to_label(real, valid_class))]\n",
    "    accuracy = [[pred==real, real] for pred, real in zip(pred_label, real_label)]\n",
    "    \n",
    "    count_real_label = pd.DataFrame([i for i in Counter(real_label).items()])\n",
    "    count_real_label.columns = ['label','count']\n",
    "\n",
    "    accuracy = pd.DataFrame(accuracy).groupby([1]).mean().reset_index()\n",
    "    accuracy.columns = ['label', 'accuracy']\n",
    "    \n",
    "    df = pd.merge(count_real_label, accuracy)\n",
    "    \n",
    "    if output==True :    \n",
    "        df.to_excel('./result/output_result_{}.xlsx'.format(seg))\n",
    "    \n",
    "    return df"
   ]
  },
  {
   "cell_type": "code",
   "execution_count": 42,
   "metadata": {},
   "outputs": [],
   "source": [
    "line_index = pd.read_excel('../data/index_line_label.xlsx', header=None)\n",
    "line_dict = {}\n",
    "for i in line_index.values:\n",
    "#     print(i[1])\n",
    "    line_dict[i[1]] = i[0]\n",
    "line_dict['-'] = '-'    "
   ]
  },
  {
   "cell_type": "code",
   "execution_count": 43,
   "metadata": {},
   "outputs": [],
   "source": [
    "train_df = count_per_label(input_data=[x_train_, train_row_, train_proba], real=y_train_, seg='train', output=True)\n",
    "valid_df = count_per_label(input_data=[x_valid_, valid_row_, valid_proba], real=y_valid_, seg='valid', output=True)\n",
    "test_df = count_per_label(input_data=[x_test_, test_row_, test_proba], real=y_test_, seg='test', output=True)"
   ]
  },
  {
   "cell_type": "code",
   "execution_count": 67,
   "metadata": {},
   "outputs": [],
   "source": [
    "def count_data(input_data, real, seg, output):\n",
    "    pred = tabsen.predict(input_data)\n",
    "    pred_label = [line_dict[i] for i in np.concatenate(int_to_label(pred, valid_class))]\n",
    "    real_label = [line_dict[i] for i in np.concatenate(int_to_label(real, valid_class))]\n",
    "    accuracy = [[pred==real, real] for pred, real in zip(pred_label, real_label)]\n",
    "    \n",
    "    count_real_label = pd.DataFrame([i for i in Counter(real_label).items()])\n",
    "    count_real_label.columns = ['label',seg]\n",
    "\n",
    "    return count_real_label"
   ]
  },
  {
   "cell_type": "code",
   "execution_count": 68,
   "metadata": {},
   "outputs": [],
   "source": [
    "train_count_df = count_data(input_data=[x_train_, train_row_, train_proba], real=y_train_, seg='train', output=True)\n",
    "valid_count_df = count_data(input_data=[x_valid_, valid_row_, valid_proba], real=y_valid_, seg='valid', output=True)\n",
    "test_count_df = count_data(input_data=[x_test_, test_row_, test_proba], real=y_test_, seg='test', output=True)"
   ]
  },
  {
   "cell_type": "code",
   "execution_count": 78,
   "metadata": {},
   "outputs": [],
   "source": [
    "all_count_df = pd.merge(pd.merge(train_count_df, valid_count_df, on='label', how='outer'), test_count_df, on='label', how='outer').to_excel('./result/output_all_count.xlsx')"
   ]
  }
 ],
 "metadata": {
  "kernelspec": {
   "display_name": "Python 3",
   "language": "python",
   "name": "python3"
  },
  "language_info": {
   "codemirror_mode": {
    "name": "ipython",
    "version": 3
   },
   "file_extension": ".py",
   "mimetype": "text/x-python",
   "name": "python",
   "nbconvert_exporter": "python",
   "pygments_lexer": "ipython3",
   "version": "3.7.3"
  }
 },
 "nbformat": 4,
 "nbformat_minor": 2
}
